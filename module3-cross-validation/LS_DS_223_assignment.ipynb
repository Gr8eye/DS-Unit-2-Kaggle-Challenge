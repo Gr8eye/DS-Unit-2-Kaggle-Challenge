{
  "nbformat": 4,
  "nbformat_minor": 0,
  "metadata": {
    "kernelspec": {
      "display_name": "Python 3",
      "language": "python",
      "name": "python3"
    },
    "language_info": {
      "codemirror_mode": {
        "name": "ipython",
        "version": 3
      },
      "file_extension": ".py",
      "mimetype": "text/x-python",
      "name": "python",
      "nbconvert_exporter": "python",
      "pygments_lexer": "ipython3",
      "version": "3.7.6"
    },
    "colab": {
      "name": "LS_DS_223_assignment.ipynb",
      "provenance": []
    }
  },
  "cells": [
    {
      "cell_type": "markdown",
      "metadata": {
        "id": "Tv5wi5HMXN7s",
        "colab_type": "text"
      },
      "source": [
        "Lambda School Data Science\n",
        "\n",
        "*Unit 2, Sprint 2, Module 3*\n",
        "\n",
        "---"
      ]
    },
    {
      "cell_type": "markdown",
      "metadata": {
        "id": "VDujTZ3_XN7w",
        "colab_type": "text"
      },
      "source": [
        "# Cross-Validation\n",
        "\n",
        "\n",
        "## Assignment\n",
        "- [ ] [Review requirements for your portfolio project](https://lambdaschool.github.io/ds/unit2), then submit your dataset.\n",
        "- [ ] Continue to participate in our Kaggle challenge. \n",
        "- [ ] Use scikit-learn for hyperparameter optimization with RandomizedSearchCV.\n",
        "- [ ] Submit your predictions to our Kaggle competition. (Go to our Kaggle InClass competition webpage. Use the blue **Submit Predictions** button to upload your CSV file. Or you can use the Kaggle API to submit your predictions.)\n",
        "- [ ] Commit your notebook to your fork of the GitHub repo.\n",
        "\n",
        "\n",
        "**You can't just copy** from the lesson notebook to this assignment.\n",
        "\n",
        "- Because the lesson was **regression**, but the assignment is **classification.**\n",
        "- Because the lesson used [TargetEncoder](https://contrib.scikit-learn.org/categorical-encoding/targetencoder.html), which doesn't work as-is for _multi-class_ classification.\n",
        "\n",
        "So you will have to adapt the example, which is good real-world practice.\n",
        "\n",
        "1. Use a model for classification, such as [RandomForestClassifier](https://scikit-learn.org/stable/modules/generated/sklearn.ensemble.RandomForestClassifier.html)\n",
        "2. Use hyperparameters that match the classifier, such as `randomforestclassifier__ ...`\n",
        "3. Use a metric for classification, such as [`scoring='accuracy'`](https://scikit-learn.org/stable/modules/model_evaluation.html#common-cases-predefined-values)\n",
        "4. If you’re doing a multi-class classification problem — such as whether a waterpump is functional, functional needs repair, or nonfunctional — then use a categorical encoding that works for multi-class classification, such as [OrdinalEncoder](https://contrib.scikit-learn.org/categorical-encoding/ordinal.html) (not [TargetEncoder](https://contrib.scikit-learn.org/categorical-encoding/targetencoder.html))\n",
        "\n",
        "\n",
        "\n",
        "## Stretch Goals\n",
        "\n",
        "### Reading\n",
        "- Jake VanderPlas, [Python Data Science Handbook, Chapter 5.3](https://jakevdp.github.io/PythonDataScienceHandbook/05.03-hyperparameters-and-model-validation.html), Hyperparameters and Model Validation\n",
        "- Jake VanderPlas, [Statistics for Hackers](https://speakerdeck.com/jakevdp/statistics-for-hackers?slide=107)\n",
        "- Ron Zacharski, [A Programmer's Guide to Data Mining, Chapter 5](http://guidetodatamining.com/chapter5/), 10-fold cross validation\n",
        "- Sebastian Raschka, [A Basic Pipeline and Grid Search Setup](https://github.com/rasbt/python-machine-learning-book/blob/master/code/bonus/svm_iris_pipeline_and_gridsearch.ipynb)\n",
        "- Peter Worcester, [A Comparison of Grid Search and Randomized Search Using Scikit Learn](https://blog.usejournal.com/a-comparison-of-grid-search-and-randomized-search-using-scikit-learn-29823179bc85)\n",
        "\n",
        "### Doing\n",
        "- Add your own stretch goals!\n",
        "- Try other [categorical encodings](https://contrib.scikit-learn.org/categorical-encoding/). See the previous assignment notebook for details.\n",
        "- In additon to `RandomizedSearchCV`, scikit-learn has [`GridSearchCV`](https://scikit-learn.org/stable/modules/generated/sklearn.model_selection.GridSearchCV.html). Another library called scikit-optimize has [`BayesSearchCV`](https://scikit-optimize.github.io/notebooks/sklearn-gridsearchcv-replacement.html). Experiment with these alternatives.\n",
        "- _[Introduction to Machine Learning with Python](http://shop.oreilly.com/product/0636920030515.do)_ discusses options for \"Grid-Searching Which Model To Use\" in Chapter 6:\n",
        "\n",
        "> You can even go further in combining GridSearchCV and Pipeline: it is also possible to search over the actual steps being performed in the pipeline (say whether to use StandardScaler or MinMaxScaler). This leads to an even bigger search space and should be considered carefully. Trying all possible solutions is usually not a viable machine learning strategy. However, here is an example comparing a RandomForestClassifier and an SVC ...\n",
        "\n",
        "The example is shown in [the accompanying notebook](https://github.com/amueller/introduction_to_ml_with_python/blob/master/06-algorithm-chains-and-pipelines.ipynb), code cells 35-37. Could you apply this concept to your own pipelines?\n"
      ]
    },
    {
      "cell_type": "markdown",
      "metadata": {
        "id": "zL2lLRyOXN7x",
        "colab_type": "text"
      },
      "source": [
        "### BONUS: Stacking!\n",
        "\n",
        "Here's some code you can use to \"stack\" multiple submissions, which is another form of ensembling:\n",
        "\n",
        "```python\n",
        "import pandas as pd\n",
        "\n",
        "# Filenames of your submissions you want to ensemble\n",
        "files = ['submission-01.csv', 'submission-02.csv', 'submission-03.csv']\n",
        "\n",
        "target = 'status_group'\n",
        "submissions = (pd.read_csv(file)[[target]] for file in files)\n",
        "ensemble = pd.concat(submissions, axis='columns')\n",
        "majority_vote = ensemble.mode(axis='columns')[0]\n",
        "\n",
        "sample_submission = pd.read_csv('sample_submission.csv')\n",
        "submission = sample_submission.copy()\n",
        "submission[target] = majority_vote\n",
        "submission.to_csv('my-ultimate-ensemble-submission.csv', index=False)\n",
        "```"
      ]
    },
    {
      "cell_type": "code",
      "metadata": {
        "id": "tvhMxuapXN7y",
        "colab_type": "code",
        "colab": {}
      },
      "source": [
        "%%capture\n",
        "import sys\n",
        "\n",
        "# If you're on Colab:\n",
        "if 'google.colab' in sys.modules:\n",
        "    DATA_PATH = 'https://raw.githubusercontent.com/LambdaSchool/DS-Unit-2-Kaggle-Challenge/master/data/'\n",
        "    !pip install category_encoders==2.*\n",
        "\n",
        "# If you're working locally:\n",
        "else:\n",
        "    DATA_PATH = '../data/'"
      ],
      "execution_count": 1,
      "outputs": []
    },
    {
      "cell_type": "code",
      "metadata": {
        "id": "0rlF3qe7rxqd",
        "colab_type": "code",
        "colab": {}
      },
      "source": [
        "# Other Imports\n",
        "import numpy as np\n",
        "import category_encoders as ce\n",
        "import matplotlib.pyplot as plt\n",
        "from scipy.stats import randint, uniform\n",
        "from sklearn.pipeline import make_pipeline\n",
        "from sklearn.linear_model import Ridge\n",
        "from sklearn.ensemble import RandomForestClassifier\n",
        "from sklearn.ensemble import ExtraTreesClassifier\n",
        "from sklearn.experimental import enable_iterative_imputer\n",
        "from sklearn.impute import IterativeImputer, SimpleImputer\n",
        "from sklearn.model_selection import cross_val_score, cross_val_predict,train_test_split\n",
        "from sklearn.feature_selection import f_regression, SelectKBest\n",
        "from sklearn.model_selection import GridSearchCV, RandomizedSearchCV\n"
      ],
      "execution_count": 31,
      "outputs": []
    },
    {
      "cell_type": "code",
      "metadata": {
        "id": "3EsbaPBuXN8A",
        "colab_type": "code",
        "colab": {}
      },
      "source": [
        "import pandas as pd\n",
        "\n",
        "# Merge train_features.csv & train_labels.csv\n",
        "train = pd.merge(pd.read_csv(DATA_PATH+'waterpumps/train_features.csv'), \n",
        "                 pd.read_csv(DATA_PATH+'waterpumps/train_labels.csv'))\n",
        "\n",
        "# Read test_features.csv & sample_submission.csv\n",
        "test = pd.read_csv(DATA_PATH+'waterpumps/test_features.csv')\n",
        "sample_submission = pd.read_csv(DATA_PATH+'waterpumps/sample_submission.csv')"
      ],
      "execution_count": 3,
      "outputs": []
    },
    {
      "cell_type": "markdown",
      "metadata": {
        "id": "ptrk5OXNtaBy",
        "colab_type": "text"
      },
      "source": [
        "## **Set Up:**"
      ]
    },
    {
      "cell_type": "markdown",
      "metadata": {
        "id": "duspLPGGt8Bw",
        "colab_type": "text"
      },
      "source": [
        "### **Wrangle Train/Test the same way**"
      ]
    },
    {
      "cell_type": "code",
      "metadata": {
        "id": "N4AohHamxoHn",
        "colab_type": "code",
        "colab": {}
      },
      "source": [
        "def wrangler(X): \n",
        "  # prevent overwriting original\n",
        "  X = X.copy()\n",
        "  \n",
        "  # replace outlier with zero\n",
        "  X['latitude'] = X['latitude'].replace(-2e-08, 0)\n",
        "\n",
        "  # drop duplicates and futiles\n",
        "  duplicates = ['extraction_type','extraction_type_group','payment',\n",
        "                'source_type', 'quality_group', 'quantity_group',\n",
        "                'waterpoint_type_group','management']\n",
        "  nugatory   = ['recorded_by','scheme_name']\n",
        "\n",
        "  X = X.drop(columns= duplicates)\n",
        "  X = X.drop(columns= nugatory)\n",
        "\n",
        "  # Creating nans to be imputed later\n",
        "  cols_with_zeros = ['longitude', 'latitude', 'population',\n",
        "                      'gps_height', 'construction_year']\n",
        "  for col in cols_with_zeros:\n",
        "    X[col] = X[col].replace(0, np.nan)  \n",
        "  \n",
        "  # Reduce cardinality of 'funder' feature \n",
        "  Top20funder = X['funder'].value_counts(normalize=True)[:20]\n",
        "  X.loc[~X['funder'].isin(Top20funder), 'funder'] = 'Other'\n",
        "\n",
        "  # And 'installer' feature\n",
        "  Top20install = X['installer'].value_counts(normalize=True)[:20]\n",
        "  X.loc[~X['installer'].isin(Top20install),'installer'] = 'Other'\n",
        "\n",
        "  # Changing region and district code features to categorical features\n",
        "  X['region_code'] = X['region_code'].astype(str)\n",
        "  X['district_code'] = X['district_code'].astype(str)\n",
        "\n",
        "  # Changing date recorded to datetime\n",
        "  X['date_recorded'] = pd.to_datetime(X['date_recorded'], \n",
        "                                      infer_datetime_format=True)\n",
        "  \n",
        "  # Extracting year data from date recorded and dropping superfluous feature\n",
        "  X['year_recorded'] = X['date_recorded'].dt.year\n",
        "  X = X.drop(columns='date_recorded')\n",
        "\n",
        "  # Engineering Age and Age_missing feature\n",
        "  X['age'] = X['year_recorded'] - X['construction_year']\n",
        "  X['age_MISSING'] = X['age'].isnull()\n",
        "\n",
        "  return X"
      ],
      "execution_count": 4,
      "outputs": []
    },
    {
      "cell_type": "code",
      "metadata": {
        "id": "nl-A5Vgqv2Eq",
        "colab_type": "code",
        "colab": {}
      },
      "source": [
        "Train = wrangler(train)\n",
        "Test  = wrangler(test)"
      ],
      "execution_count": 5,
      "outputs": []
    },
    {
      "cell_type": "markdown",
      "metadata": {
        "id": "geFbgXfCv-VA",
        "colab_type": "text"
      },
      "source": [
        "### **Select Features and Arrange X and Y:**"
      ]
    },
    {
      "cell_type": "code",
      "metadata": {
        "id": "D1blBuqKkfhQ",
        "colab_type": "code",
        "colab": {}
      },
      "source": [
        "# Target is status_group\n",
        "target = 'status_group'\n",
        "\n",
        "# Drop columns intuitively deemed unnecessary\n",
        "super = [target,'id','wpt_name','num_private','region_code','lga',\n",
        "         'ward','public_meeting','payment_type']\n",
        "\n",
        "# Remaining dataframe\n",
        "train_features = Train.drop(columns=super)\n",
        "\n",
        "# Get a list of the numeric features\n",
        "numeric = train_features.select_dtypes(include='number').columns.tolist()\n",
        "\n",
        "# Get a series with the cardinality of the nonnumeric features\n",
        "cardinality = train_features.select_dtypes(exclude='number').nunique()\n",
        "\n",
        "# Get a list of all categorical features with cardinality <= 100\n",
        "categorical = cardinality[cardinality <= 100].index.tolist()\n",
        "\n",
        "# Combine those lists \n",
        "features = numeric + categorical"
      ],
      "execution_count": 6,
      "outputs": []
    },
    {
      "cell_type": "code",
      "metadata": {
        "id": "uL5zSG9VtR3D",
        "colab_type": "code",
        "colab": {}
      },
      "source": [
        "# Arrange X and Y \n",
        "x_train = Train[features]\n",
        "x_test  = Test[features]\n",
        "\n",
        "y_train = Train[target]"
      ],
      "execution_count": 7,
      "outputs": []
    },
    {
      "cell_type": "markdown",
      "metadata": {
        "id": "50057FlaxnSX",
        "colab_type": "text"
      },
      "source": [
        "## **Cross_val_score with Random Forest Classifier:**"
      ]
    },
    {
      "cell_type": "code",
      "metadata": {
        "id": "u8L_peIQvZWv",
        "colab_type": "code",
        "colab": {
          "base_uri": "https://localhost:8080/",
          "height": 34
        },
        "outputId": "351a7208-451f-49f0-c5f1-ec20cf3c9f5d"
      },
      "source": [
        "# make pipeline \n",
        "pipeline = make_pipeline(ce.OrdinalEncoder(),\n",
        "                         IterativeImputer(max_iter=10,\n",
        "                                          initial_strategy='mean',\n",
        "                                          imputation_order='random', \n",
        "                                          random_state=24),\n",
        "                         RandomForestClassifier(n_estimators= 300,\n",
        "                                                min_samples_leaf= 2,\n",
        "                                                min_samples_split= 3, \n",
        "                                                n_jobs=-1, \n",
        "                                                random_state=24))\n",
        "# select number of folds and apply cross_val_score\n",
        "k = 5\n",
        "scores = cross_val_score(pipeline, x_train, y_train, cv=k)\n",
        "# print results\n",
        "print(f'Mean Absolute Error for {k} folds:',scores)"
      ],
      "execution_count": 10,
      "outputs": [
        {
          "output_type": "stream",
          "text": [
            "Mean Absolute Error for 5 folds: [0.81161616 0.80589226 0.81321549 0.80892256 0.80824916]\n"
          ],
          "name": "stdout"
        }
      ]
    },
    {
      "cell_type": "code",
      "metadata": {
        "id": "V375DFPe1L-P",
        "colab_type": "code",
        "colab": {
          "base_uri": "https://localhost:8080/",
          "height": 34
        },
        "outputId": "9772ff5d-b29a-40c6-be80-cf868c7bb38c"
      },
      "source": [
        "# Mean of the folds\n",
        "scores.mean()"
      ],
      "execution_count": 11,
      "outputs": [
        {
          "output_type": "execute_result",
          "data": {
            "text/plain": [
              "0.8095791245791245"
            ]
          },
          "metadata": {
            "tags": []
          },
          "execution_count": 11
        }
      ]
    },
    {
      "cell_type": "markdown",
      "metadata": {
        "id": "p1Lg83tP1IAo",
        "colab_type": "text"
      },
      "source": [
        "## **Hyperparameters:**"
      ]
    },
    {
      "cell_type": "code",
      "metadata": {
        "id": "1kNIOiPv1sbz",
        "colab_type": "code",
        "colab": {}
      },
      "source": [
        "# Create blank pipeline\n",
        "conveyor = make_pipeline(ce.OrdinalEncoder(),\n",
        "                         IterativeImputer(random_state=24),\n",
        "                         RandomForestClassifier(random_state=24))\n",
        "# create dictionary for parameter distributions\n",
        "params = {'iterativeimputer__max_iter': [5,10,15,None],\n",
        "          'iterativeimputer__initial_strategy': ['mean','most_frequent','median'],\n",
        "          'iterativeimputer__imputation_order': ['ascending','descending','random'],\n",
        "          'randomforestclassifier__n_estimators': randint(50,400),\n",
        "          'randomforestclassifier__min_samples_leaf': [3,4,5,None],\n",
        "          'randomforestclassifier__min_samples_split':[3,4,6,None],\n",
        "          'randomforestclassifier__max_depth': [5,10,20,None],\n",
        "          'randomforestclassifier__max_features': uniform(0,1)}\n",
        "# create randomized search with params\n",
        "search = RandomizedSearchCV(conveyor,\n",
        "                            param_distributions=params,\n",
        "                            n_iter=3,\n",
        "                            cv=4,\n",
        "                            scoring='accuracy',\n",
        "                            verbose=10,\n",
        "                            n_jobs=-1,\n",
        "                            return_train_score=True)\n"
      ],
      "execution_count": 35,
      "outputs": []
    },
    {
      "cell_type": "code",
      "metadata": {
        "id": "w0CCthlaAUFl",
        "colab_type": "code",
        "colab": {
          "base_uri": "https://localhost:8080/",
          "height": 119
        },
        "outputId": "52984aba-0e6b-4388-c6a8-91712c17789d"
      },
      "source": [
        "# Fit search to Train data\n",
        "search.fit(x_train,y_train);"
      ],
      "execution_count": 36,
      "outputs": [
        {
          "output_type": "stream",
          "text": [
            "Fitting 4 folds for each of 3 candidates, totalling 12 fits\n"
          ],
          "name": "stdout"
        },
        {
          "output_type": "stream",
          "text": [
            "[Parallel(n_jobs=-1)]: Using backend LokyBackend with 2 concurrent workers.\n",
            "[Parallel(n_jobs=-1)]: Done   1 tasks      | elapsed:    1.7s\n",
            "[Parallel(n_jobs=-1)]: Done   4 tasks      | elapsed:    2.3s\n",
            "[Parallel(n_jobs=-1)]: Done   9 tasks      | elapsed:  1.7min\n",
            "[Parallel(n_jobs=-1)]: Done  12 out of  12 | elapsed:  2.4min finished\n"
          ],
          "name": "stderr"
        }
      ]
    },
    {
      "cell_type": "code",
      "metadata": {
        "id": "0Vr8JDP3AUCV",
        "colab_type": "code",
        "colab": {
          "base_uri": "https://localhost:8080/",
          "height": 71
        },
        "outputId": "e0d6ac2e-d26d-444e-8414-42bebce5fdb4"
      },
      "source": [
        "# Print results\n",
        "print('Best hyperparameters', search.best_params_)\n",
        "print('Cross-validation MAE', search.best_score_)"
      ],
      "execution_count": 37,
      "outputs": [
        {
          "output_type": "stream",
          "text": [
            "Best hyperparameters {'iterativeimputer__imputation_order': 'descending', 'iterativeimputer__initial_strategy': 'most_frequent', 'iterativeimputer__max_iter': 15, 'randomforestclassifier__max_depth': None, 'randomforestclassifier__max_features': 0.29484997290394865, 'randomforestclassifier__min_samples_leaf': 4, 'randomforestclassifier__min_samples_split': 3, 'randomforestclassifier__n_estimators': 220}\n",
            "Cross-validation MAE 0.8044107744107745\n"
          ],
          "name": "stdout"
        }
      ]
    },
    {
      "cell_type": "markdown",
      "metadata": {
        "id": "3ujX7bJ-CF7D",
        "colab_type": "text"
      },
      "source": [
        "### **Prediction:**"
      ]
    },
    {
      "cell_type": "code",
      "metadata": {
        "id": "YgIZjRUCCVFQ",
        "colab_type": "code",
        "colab": {
          "base_uri": "https://localhost:8080/",
          "height": 34
        },
        "outputId": "628c7f1a-fd9c-4ebe-b6e2-81f1852b73b4"
      },
      "source": [
        "Pipeline = search.best_estimator_\n",
        "Pipeline.score(x_train,y_train)"
      ],
      "execution_count": 38,
      "outputs": [
        {
          "output_type": "execute_result",
          "data": {
            "text/plain": [
              "0.8871548821548821"
            ]
          },
          "metadata": {
            "tags": []
          },
          "execution_count": 38
        }
      ]
    },
    {
      "cell_type": "code",
      "metadata": {
        "id": "oaruqgQfKHqd",
        "colab_type": "code",
        "colab": {
          "base_uri": "https://localhost:8080/",
          "height": 51
        },
        "outputId": "d6ceb4d0-870d-4e7b-a9fc-e4002a47f28b"
      },
      "source": [
        "y_pred = Pipeline.predict(x_test)\n",
        "y_pred"
      ],
      "execution_count": 39,
      "outputs": [
        {
          "output_type": "execute_result",
          "data": {
            "text/plain": [
              "array(['functional', 'functional', 'functional', ..., 'functional',\n",
              "       'functional', 'non functional'], dtype=object)"
            ]
          },
          "metadata": {
            "tags": []
          },
          "execution_count": 39
        }
      ]
    },
    {
      "cell_type": "code",
      "metadata": {
        "id": "Lq8Y7boLT_9a",
        "colab_type": "code",
        "colab": {}
      },
      "source": [
        "# Submit to Kaggle\n",
        "submission = test[['id']].copy()\n",
        "submission['status_group'] = y_pred\n",
        "submission.to_csv('Meghan_Felker_TWPP4.csv', index=False)"
      ],
      "execution_count": 40,
      "outputs": []
    }
  ]
}