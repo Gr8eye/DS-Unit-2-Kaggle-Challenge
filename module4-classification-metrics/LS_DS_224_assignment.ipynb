{
  "nbformat": 4,
  "nbformat_minor": 0,
  "metadata": {
    "kernelspec": {
      "display_name": "Python 3",
      "language": "python",
      "name": "python3"
    },
    "language_info": {
      "codemirror_mode": {
        "name": "ipython",
        "version": 3
      },
      "file_extension": ".py",
      "mimetype": "text/x-python",
      "name": "python",
      "nbconvert_exporter": "python",
      "pygments_lexer": "ipython3",
      "version": "3.7.3"
    },
    "colab": {
      "name": "LS_DS_224_assignment.ipynb",
      "provenance": []
    }
  },
  "cells": [
    {
      "cell_type": "markdown",
      "metadata": {
        "id": "OKIJqDDde4MP",
        "colab_type": "text"
      },
      "source": [
        "Lambda School Data Science\n",
        "\n",
        "*Unit 2, Sprint 2, Module 4*\n",
        "\n",
        "---"
      ]
    },
    {
      "cell_type": "markdown",
      "metadata": {
        "colab_type": "text",
        "id": "nCc3XZEyG3XV"
      },
      "source": [
        "# Classification Metrics\n",
        "\n",
        "## Assignment\n",
        "- [ ] If you haven't yet, [review requirements for your portfolio project](https://lambdaschool.github.io/ds/unit2), then submit your dataset.\n",
        "- [ ] Plot a confusion matrix for your Tanzania Waterpumps model.\n",
        "- [ ] Continue to participate in our Kaggle challenge. Every student should have made at least one submission that scores at least 70% accuracy (well above the majority class baseline).\n",
        "- [ ] Submit your final predictions to our Kaggle competition. Optionally, go to **My Submissions**, and _\"you may select up to 1 submission to be used to count towards your final leaderboard score.\"_\n",
        "- [ ] Commit your notebook to your fork of the GitHub repo.\n",
        "- [ ] Read [Maximizing Scarce Maintenance Resources with Data: Applying predictive modeling, precision at k, and clustering to optimize impact](http://archive.is/DelgE), by Lambda DS3 student Michael Brady. His blog post extends the Tanzania Waterpumps scenario, far beyond what's in the lecture notebook.\n",
        "\n",
        "\n",
        "## Stretch Goals\n",
        "\n",
        "### Reading\n",
        "\n",
        "- [Attacking discrimination with smarter machine learning](https://research.google.com/bigpicture/attacking-discrimination-in-ml/), by Google Research, with  interactive visualizations. _\"A threshold classifier essentially makes a yes/no decision, putting things in one category or another. We look at how these classifiers work, ways they can potentially be unfair, and how you might turn an unfair classifier into a fairer one. As an illustrative example, we focus on loan granting scenarios where a bank may grant or deny a loan based on a single, automatically computed number such as a credit score.\"_\n",
        "- [Notebook about how to calculate expected value from a confusion matrix by treating it as a cost-benefit matrix](https://github.com/podopie/DAT18NYC/blob/master/classes/13-expected_value_cost_benefit_analysis.ipynb)\n",
        "- [Visualizing Machine Learning Thresholds to Make Better Business Decisions](https://blog.insightdatascience.com/visualizing-machine-learning-thresholds-to-make-better-business-decisions-4ab07f823415)\n",
        "\n",
        "\n",
        "### Doing\n",
        "- [ ] Share visualizations in our Slack channel!\n",
        "- [ ] RandomizedSearchCV / GridSearchCV, for model selection. (See module 3 assignment notebook)\n",
        "- [ ] Stacking Ensemble. (See module 3 assignment notebook)\n",
        "- [ ] More Categorical Encoding. (See module 2 assignment notebook)"
      ]
    },
    {
      "cell_type": "code",
      "metadata": {
        "colab_type": "code",
        "id": "lsbRiKBoB5RE",
        "colab": {}
      },
      "source": [
        "%%capture\n",
        "import sys\n",
        "\n",
        "# If you're on Colab:\n",
        "if 'google.colab' in sys.modules:\n",
        "    DATA_PATH = 'https://raw.githubusercontent.com/LambdaSchool/DS-Unit-2-Kaggle-Challenge/master/data/'\n",
        "    !pip install category_encoders==2.*\n",
        "\n",
        "# If you're working locally:\n",
        "else:\n",
        "    DATA_PATH = '../data/'"
      ],
      "execution_count": 2,
      "outputs": []
    },
    {
      "cell_type": "code",
      "metadata": {
        "id": "0rlF3qe7rxqd",
        "colab_type": "code",
        "colab": {}
      },
      "source": [
        "# Other Imports\n",
        "import numpy as np\n",
        "import category_encoders as ce\n",
        "import matplotlib.pyplot as plt\n",
        "import seaborn as sns\n",
        "from sklearn.impute import SimpleImputer\n",
        "from sklearn.linear_model import Ridge\n",
        "from sklearn.ensemble import RandomForestClassifier\n",
        "from sklearn.ensemble import ExtraTreesClassifier\n",
        "from sklearn.pipeline import make_pipeline\n",
        "from sklearn.preprocessing import StandardScaler\n",
        "from sklearn.model_selection import train_test_split\n",
        "from sklearn.model_selection import cross_val_score\n",
        "from sklearn.experimental import enable_iterative_imputer\n",
        "from sklearn.impute import IterativeImputer\n",
        "from sklearn.feature_selection import f_regression, SelectKBest\n",
        "from sklearn.model_selection import GridSearchCV, RandomizedSearchCV\n",
        "from lightgbm import LGBMClassifier\n",
        "from sklearn.metrics import classification_report\n",
        "from sklearn.ensemble import VotingClassifier\n",
        "from sklearn.metrics import accuracy_score\n",
        "from sklearn.metrics import plot_confusion_matrix"
      ],
      "execution_count": 83,
      "outputs": []
    },
    {
      "cell_type": "code",
      "metadata": {
        "colab_type": "code",
        "id": "BVA1lph8CcNX",
        "colab": {}
      },
      "source": [
        "import pandas as pd\n",
        "\n",
        "# Merge train_features.csv & train_labels.csv\n",
        "train = pd.merge(pd.read_csv(DATA_PATH+'waterpumps/train_features.csv'), \n",
        "                 pd.read_csv(DATA_PATH+'waterpumps/train_labels.csv'))\n",
        "\n",
        "# Read test_features.csv & sample_submission.csv\n",
        "test = pd.read_csv(DATA_PATH+'waterpumps/test_features.csv')\n",
        "sample_submission = pd.read_csv(DATA_PATH+'waterpumps/sample_submission.csv')"
      ],
      "execution_count": 4,
      "outputs": []
    },
    {
      "cell_type": "markdown",
      "metadata": {
        "id": "VPabNTnQWbB9",
        "colab_type": "text"
      },
      "source": [
        "## Set up:"
      ]
    },
    {
      "cell_type": "code",
      "metadata": {
        "id": "W7G7zEE2W0oF",
        "colab_type": "code",
        "colab": {
          "base_uri": "https://localhost:8080/",
          "height": 34
        },
        "outputId": "ad9bdd81-08db-4936-cf1e-76d6972b8e80"
      },
      "source": [
        "# Split train into train/val and make val the same size as test\n",
        "target = 'status_group'\n",
        "Tr, val = train_test_split(train, test_size=len(test),  \n",
        "                              stratify=train[target], random_state=23)\n",
        "Tr.shape,val.shape,test.shape"
      ],
      "execution_count": 5,
      "outputs": [
        {
          "output_type": "execute_result",
          "data": {
            "text/plain": [
              "((45042, 41), (14358, 41), (14358, 40))"
            ]
          },
          "metadata": {
            "tags": []
          },
          "execution_count": 5
        }
      ]
    },
    {
      "cell_type": "code",
      "metadata": {
        "id": "N4AohHamxoHn",
        "colab_type": "code",
        "colab": {}
      },
      "source": [
        "# Wrangle data the same way\n",
        "def wrangler(X): \n",
        "  # prevent overwriting original\n",
        "  X = X.copy()\n",
        "  \n",
        "  # replace outlier with zero\n",
        "  X['latitude'] = X['latitude'].replace(-2e-08, 0)\n",
        "\n",
        "  # drop duplicates and futiles\n",
        "  duplicates = ['extraction_type','extraction_type_group','payment',\n",
        "                'source_type', 'quality_group', 'quantity_group',\n",
        "                'waterpoint_type_group','management']\n",
        "  nugatory   = ['recorded_by','scheme_name']\n",
        "\n",
        "  X = X.drop(columns= duplicates)\n",
        "  X = X.drop(columns= nugatory)\n",
        "\n",
        "  # Creating nans to be imputed later\n",
        "  cols_with_zeros = ['longitude', 'latitude', 'population',\n",
        "                      'gps_height', 'construction_year']\n",
        "  for col in cols_with_zeros:\n",
        "    X[col] = X[col].replace(0, np.nan)  \n",
        "  \n",
        "  # Reduce cardinality of 'funder' feature \n",
        "  Top20funder = X['funder'].value_counts(normalize=True)[:20]\n",
        "  X.loc[~X['funder'].isin(Top20funder), 'funder'] = 'Other'\n",
        "\n",
        "  # And 'installer' feature\n",
        "  Top20install = X['installer'].value_counts(normalize=True)[:20]\n",
        "  X.loc[~X['installer'].isin(Top20install),'installer'] = 'Other'\n",
        "\n",
        "  # Changing region and district code features to categorical features\n",
        "  X['region_code'] = X['region_code'].astype(str)\n",
        "  X['district_code'] = X['district_code'].astype(str)\n",
        "\n",
        "  # Changing date recorded to datetime\n",
        "  X['date_recorded'] = pd.to_datetime(X['date_recorded'], \n",
        "                                      infer_datetime_format=True)\n",
        "  \n",
        "  # Extracting year data from date recorded and dropping superfluous feature\n",
        "  X['year_recorded'] = X['date_recorded'].dt.year\n",
        "  X = X.drop(columns='date_recorded')\n",
        "\n",
        "  # Engineering Age and Age_missing feature\n",
        "  X['age'] = X['year_recorded'] - X['construction_year']\n",
        "  X['age_MISSING'] = X['age'].isnull()\n",
        "\n",
        "  return X"
      ],
      "execution_count": 6,
      "outputs": []
    },
    {
      "cell_type": "code",
      "metadata": {
        "id": "TV4y1a4NW0sz",
        "colab_type": "code",
        "colab": {
          "base_uri": "https://localhost:8080/",
          "height": 34
        },
        "outputId": "40482e9e-2914-4396-be79-987bcdbb66da"
      },
      "source": [
        "Train = wrangler(Tr)\n",
        "Val   = wrangler(val)\n",
        "Test  = wrangler(test)\n",
        "Train.shape,Val.shape,Test.shape"
      ],
      "execution_count": 8,
      "outputs": [
        {
          "output_type": "execute_result",
          "data": {
            "text/plain": [
              "((45042, 33), (14358, 33), (14358, 32))"
            ]
          },
          "metadata": {
            "tags": []
          },
          "execution_count": 8
        }
      ]
    },
    {
      "cell_type": "code",
      "metadata": {
        "id": "DCuvqCdEW1Bq",
        "colab_type": "code",
        "colab": {}
      },
      "source": [
        "# Feature Selection\n",
        "# Drop columns intuitively deemed unnecessary\n",
        "super = [target,'id','wpt_name','num_private','region_code','lga',\n",
        "         'ward','public_meeting','payment_type']\n",
        "\n",
        "# Remaining dataframe\n",
        "train_features = Train.drop(columns=super)\n",
        "\n",
        "# Get a list of the numeric features\n",
        "numeric = train_features.select_dtypes(include='number').columns.tolist()\n",
        "\n",
        "# Get a series with the cardinality of the nonnumeric features\n",
        "cardinality = train_features.select_dtypes(exclude='number').nunique()\n",
        "\n",
        "# Get a list of all categorical features with cardinality <= 100\n",
        "categorical = cardinality[cardinality <= 100].index.tolist()\n",
        "\n",
        "# Combine those lists \n",
        "features = numeric + categorical"
      ],
      "execution_count": 9,
      "outputs": []
    },
    {
      "cell_type": "code",
      "metadata": {
        "id": "Mjt_RwC-lgl7",
        "colab_type": "code",
        "colab": {}
      },
      "source": [
        "# Arrange X and Y \n",
        "x_train = Train[features]\n",
        "x_val   = Val[features]\n",
        "x_test  = Test[features]\n",
        "\n",
        "y_train = Train[target]\n",
        "y_val   = Val[target]"
      ],
      "execution_count": 11,
      "outputs": []
    },
    {
      "cell_type": "markdown",
      "metadata": {
        "id": "oSDMBSJvWbTk",
        "colab_type": "text"
      },
      "source": [
        "## Model:"
      ]
    },
    {
      "cell_type": "code",
      "metadata": {
        "id": "h741uxzUW2y6",
        "colab_type": "code",
        "colab": {
          "base_uri": "https://localhost:8080/",
          "height": 34
        },
        "outputId": "e215dfa5-5204-44e7-f15c-dbef83affd38"
      },
      "source": [
        "# Random Forest \n",
        "pipeline = make_pipeline(ce.OrdinalEncoder(),\n",
        "                         IterativeImputer(max_iter=10,\n",
        "                                          initial_strategy='mean',\n",
        "                                          imputation_order='random', \n",
        "                                          random_state=23),\n",
        "                         RandomForestClassifier(n_estimators= 300,\n",
        "                                                max_depth=20,\n",
        "                                                min_samples_leaf= 5,\n",
        "                                                min_samples_split= 3, \n",
        "                                                n_jobs=-1, \n",
        "                                                random_state=23))\n",
        "pipeline.fit(x_train,y_train)\n",
        "RFpred = pipeline.predict(x_val)\n",
        "pipeline.score(x_val,y_val)"
      ],
      "execution_count": 87,
      "outputs": [
        {
          "output_type": "execute_result",
          "data": {
            "text/plain": [
              "0.8001114361331662"
            ]
          },
          "metadata": {
            "tags": []
          },
          "execution_count": 87
        }
      ]
    },
    {
      "cell_type": "code",
      "metadata": {
        "id": "hiLmDd-6W246",
        "colab_type": "code",
        "colab": {
          "base_uri": "https://localhost:8080/",
          "height": 34
        },
        "outputId": "28e7c1f3-5f1e-4398-87d4-d70479db4d40"
      },
      "source": [
        "# Extra Trees\n",
        "pipeline2 = make_pipeline(ce.OrdinalEncoder(),\n",
        "                          IterativeImputer(max_iter=10,\n",
        "                                           initial_strategy='mean',\n",
        "                                           imputation_order='random',\n",
        "                                           random_state=23),\n",
        "                          ExtraTreesClassifier(n_estimators=400,\n",
        "                                               max_depth=20,\n",
        "                                               min_samples_split=5,\n",
        "                                               min_samples_leaf=3,\n",
        "                                               n_jobs=-1,\n",
        "                                               random_state=23))                       \n",
        "pipeline2.fit(x_train,y_train)\n",
        "ETpred = pipeline2.predict(x_val)\n",
        "pipeline2.score(x_val,y_val)"
      ],
      "execution_count": 88,
      "outputs": [
        {
          "output_type": "execute_result",
          "data": {
            "text/plain": [
              "0.793634210892882"
            ]
          },
          "metadata": {
            "tags": []
          },
          "execution_count": 88
        }
      ]
    },
    {
      "cell_type": "code",
      "metadata": {
        "id": "3eNh6vN5W2xR",
        "colab_type": "code",
        "colab": {
          "base_uri": "https://localhost:8080/",
          "height": 34
        },
        "outputId": "ce7f2960-c1a8-4d9c-90ed-35f7db1bc64f"
      },
      "source": [
        "pipeline3 = make_pipeline(ce.OrdinalEncoder(),\n",
        "                          IterativeImputer(max_iter=20,\n",
        "                                           initial_strategy='mean',\n",
        "                                           imputation_order='random',\n",
        "                                           random_state=23),\n",
        "                          LGBMClassifier(boosting_type='rf',\n",
        "                                         n_estimators=300,\n",
        "                                         objective='multiclass',\n",
        "                                         learning_rate=0.1,\n",
        "                                         subsample= 2,\n",
        "                                         subsample_freq=4, \n",
        "                                         bagging_fraction=.4, \n",
        "                                         feature_fraction=0.5,\n",
        "                                         random_state=23,\n",
        "                                         n_jobs=-1))\n",
        "pipeline3.fit(x_train,y_train)\n",
        "LGBMpred = pipeline3.predict(x_val)\n",
        "pipeline3.score(x_val,y_val)"
      ],
      "execution_count": 89,
      "outputs": [
        {
          "output_type": "execute_result",
          "data": {
            "text/plain": [
              "0.7390305056414542"
            ]
          },
          "metadata": {
            "tags": []
          },
          "execution_count": 89
        }
      ]
    },
    {
      "cell_type": "code",
      "metadata": {
        "id": "QRABo_Bv-zdA",
        "colab_type": "code",
        "colab": {
          "base_uri": "https://localhost:8080/",
          "height": 51
        },
        "outputId": "82ed7079-eae4-4a52-f4a0-9ccb1d5eab98"
      },
      "source": [
        "# Curious about the Voting Classifier...\n",
        "Estimators = [('RF',pipeline),('LGBM',pipeline3),('ET',pipeline2)]\n",
        "hardvote = VotingClassifier(estimators=Estimators,voting='hard')\n",
        "softvote = VotingClassifier(estimators=Estimators,voting='soft')\n",
        "hardvote.fit(x_train,y_train)\n",
        "softvote.fit(x_train,y_train)\n",
        "valpredh = hardvote.predict(x_val)\n",
        "valpreds = softvote.predict(x_val)\n",
        "print('Hard vote Accuracy:',accuracy_score(y_val,valpredh))\n",
        "print('Soft vote Accuracy:',accuracy_score(y_val,valpreds))"
      ],
      "execution_count": 86,
      "outputs": [
        {
          "output_type": "stream",
          "text": [
            "Hard vote Accuracy: 0.7932163253935088\n",
            "Soft vote Accuracy: 0.790639364814041\n"
          ],
          "name": "stdout"
        }
      ]
    },
    {
      "cell_type": "markdown",
      "metadata": {
        "id": "aCYc_Pl9WboN",
        "colab_type": "text"
      },
      "source": [
        "## Confusion Matrix:"
      ]
    },
    {
      "cell_type": "code",
      "metadata": {
        "id": "Z833k-swW4Rf",
        "colab_type": "code",
        "colab": {
          "base_uri": "https://localhost:8080/",
          "height": 385
        },
        "outputId": "9b677cad-83a0-46dc-a6e0-d54f5e1c5d9e"
      },
      "source": [
        "plot_confusion_matrix(pipeline, x_val, y_val, values_format='.0f', xticks_rotation='vertical');"
      ],
      "execution_count": 79,
      "outputs": [
        {
          "output_type": "display_data",
          "data": {
            "image/png": "[encoded data removed]",
            "text/plain": [
              "<Figure size 432x288 with 2 Axes>"
            ]
          },
          "metadata": {
            "tags": [],
            "needs_background": "light"
          }
        }
      ]
    },
    {
      "cell_type": "code",
      "metadata": {
        "id": "72kEI79dW4W4",
        "colab_type": "code",
        "colab": {
          "base_uri": "https://localhost:8080/",
          "height": 385
        },
        "outputId": "2307256d-284f-4ed2-ee91-4c85357b6069"
      },
      "source": [
        "plot_confusion_matrix(pipeline2, x_val, y_val, values_format='.0f', xticks_rotation='vertical');"
      ],
      "execution_count": 82,
      "outputs": [
        {
          "output_type": "display_data",
          "data": {
            "image/png": "[encoded data removed]",
            "text/plain": [
              "<Figure size 432x288 with 2 Axes>"
            ]
          },
          "metadata": {
            "tags": [],
            "needs_background": "light"
          }
        }
      ]
    },
    {
      "cell_type": "code",
      "metadata": {
        "id": "npdQ6GLQW4sO",
        "colab_type": "code",
        "colab": {
          "base_uri": "https://localhost:8080/",
          "height": 385
        },
        "outputId": "2de469c6-2871-40ed-8009-07974d424840"
      },
      "source": [
        "plot_confusion_matrix(pipeline3, x_val, y_val, values_format='.0f', xticks_rotation='vertical');"
      ],
      "execution_count": 81,
      "outputs": [
        {
          "output_type": "display_data",
          "data": {
            "image/png": "[encoded data removed]",
            "text/plain": [
              "<Figure size 432x288 with 2 Axes>"
            ]
          },
          "metadata": {
            "tags": [],
            "needs_background": "light"
          }
        }
      ]
    },
    {
      "cell_type": "code",
      "metadata": {
        "id": "PpbFXahBQdw5",
        "colab_type": "code",
        "colab": {
          "base_uri": "https://localhost:8080/",
          "height": 187
        },
        "outputId": "782af002-3a9f-4f7a-9782-9bbecf0f8891"
      },
      "source": [
        "print(classification_report(y_val,RFpred))"
      ],
      "execution_count": 90,
      "outputs": [
        {
          "output_type": "stream",
          "text": [
            "                         precision    recall  f1-score   support\n",
            "\n",
            "             functional       0.78      0.92      0.84      7798\n",
            "functional needs repair       0.65      0.21      0.32      1043\n",
            "         non functional       0.85      0.74      0.79      5517\n",
            "\n",
            "               accuracy                           0.80     14358\n",
            "              macro avg       0.76      0.63      0.65     14358\n",
            "           weighted avg       0.80      0.80      0.79     14358\n",
            "\n"
          ],
          "name": "stdout"
        }
      ]
    },
    {
      "cell_type": "code",
      "metadata": {
        "id": "GBD1-LwsTE3Z",
        "colab_type": "code",
        "colab": {
          "base_uri": "https://localhost:8080/",
          "height": 187
        },
        "outputId": "be8a79dc-9833-4f2f-d2c8-70cf4a66457d"
      },
      "source": [
        "print(classification_report(y_val,ETpred))"
      ],
      "execution_count": 91,
      "outputs": [
        {
          "output_type": "stream",
          "text": [
            "                         precision    recall  f1-score   support\n",
            "\n",
            "             functional       0.77      0.93      0.84      7798\n",
            "functional needs repair       0.70      0.19      0.30      1043\n",
            "         non functional       0.85      0.72      0.78      5517\n",
            "\n",
            "               accuracy                           0.79     14358\n",
            "              macro avg       0.77      0.61      0.64     14358\n",
            "           weighted avg       0.80      0.79      0.78     14358\n",
            "\n"
          ],
          "name": "stdout"
        }
      ]
    },
    {
      "cell_type": "code",
      "metadata": {
        "id": "-DlajvhMTE1a",
        "colab_type": "code",
        "colab": {
          "base_uri": "https://localhost:8080/",
          "height": 187
        },
        "outputId": "ef45ae04-009c-466a-dbb4-56a9e5a35ed8"
      },
      "source": [
        "print(classification_report(y_val,LGBMpred))"
      ],
      "execution_count": 92,
      "outputs": [
        {
          "output_type": "stream",
          "text": [
            "                         precision    recall  f1-score   support\n",
            "\n",
            "             functional       0.70      0.94      0.80      7798\n",
            "functional needs repair       0.63      0.12      0.20      1043\n",
            "         non functional       0.85      0.58      0.69      5517\n",
            "\n",
            "               accuracy                           0.74     14358\n",
            "              macro avg       0.73      0.54      0.56     14358\n",
            "           weighted avg       0.75      0.74      0.71     14358\n",
            "\n"
          ],
          "name": "stdout"
        }
      ]
    },
    {
      "cell_type": "code",
      "metadata": {
        "id": "B9YUT3qnTEyP",
        "colab_type": "code",
        "colab": {
          "base_uri": "https://localhost:8080/",
          "height": 187
        },
        "outputId": "9869abf1-c638-4568-ccf6-fd14504fb4e4"
      },
      "source": [
        "print(classification_report(y_val,valpredh))"
      ],
      "execution_count": 93,
      "outputs": [
        {
          "output_type": "stream",
          "text": [
            "                         precision    recall  f1-score   support\n",
            "\n",
            "             functional       0.76      0.93      0.84      7798\n",
            "functional needs repair       0.70      0.19      0.29      1043\n",
            "         non functional       0.86      0.71      0.78      5517\n",
            "\n",
            "               accuracy                           0.79     14358\n",
            "              macro avg       0.77      0.61      0.64     14358\n",
            "           weighted avg       0.80      0.79      0.78     14358\n",
            "\n"
          ],
          "name": "stdout"
        }
      ]
    }
  ]
}